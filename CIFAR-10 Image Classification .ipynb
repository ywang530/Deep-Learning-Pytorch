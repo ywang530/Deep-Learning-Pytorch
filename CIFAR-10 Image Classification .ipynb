{
 "cells": [
  {
   "cell_type": "code",
   "execution_count": 58,
   "metadata": {},
   "outputs": [],
   "source": [
    "# CIFAR-10 consists of 60000 tiny 32x32 color (RGB) images\n",
    "# airplane (0), automobile (1), bird (2), cat (3), deer (4), dog (5),\n",
    "# frog (6), horse (7), ship (8), truck (9)\n",
    "\n",
    "# The task is to classify birds from airplanes."
   ]
  },
  {
   "cell_type": "code",
   "execution_count": 9,
   "metadata": {},
   "outputs": [
    {
     "name": "stdout",
     "output_type": "stream",
     "text": [
      "Files already downloaded and verified\n",
      "Files already downloaded and verified\n"
     ]
    }
   ],
   "source": [
    "%matplotlib inline\n",
    "from matplotlib import pyplot as plt\n",
    "import numpy as np\n",
    "import torch\n",
    "from torchvision import datasets\n",
    "\n",
    "# download CIFAR10 Dataset\n",
    "data_path = '../Deep-Learning-Pytorch/CIFAR-10/'\n",
    "cifar10 = datasets.CIFAR10(data_path, train=True, download=True)\n",
    "cifar10_val = datasets.CIFAR10(data_path, train=False, download=True)"
   ]
  },
  {
   "cell_type": "code",
   "execution_count": 17,
   "metadata": {},
   "outputs": [
    {
     "name": "stdout",
     "output_type": "stream",
     "text": [
      "<PIL.Image.Image image mode=RGB size=32x32 at 0x1888448D748> 9 truck\n"
     ]
    },
    {
     "data": {
      "image/png": "[encoded data removed]",
      "text/plain": [
       "<Figure size 432x288 with 1 Axes>"
      ]
     },
     "metadata": {
      "needs_background": "light"
     },
     "output_type": "display_data"
    }
   ],
   "source": [
    "class_names = ['airplane','automobile','bird','cat','deer',\n",
    "               'dog','frog','horse','ship','truck']\n",
    "\n",
    "image,label = cifar10[1000]\n",
    "image,label,class_names[label]\n",
    "print(image,label,class_names[label])\n",
    "plt.imshow(image)\n",
    "plt.show()"
   ]
  },
  {
   "cell_type": "code",
   "execution_count": 19,
   "metadata": {},
   "outputs": [
    {
     "data": {
      "text/plain": [
       "torch.Size([3, 32, 32])"
      ]
     },
     "execution_count": 19,
     "metadata": {},
     "output_type": "execute_result"
    }
   ],
   "source": [
    "from torchvision import transforms\n",
    "tensor = transforms.ToTensor()\n",
    "image_tensor = tensor(image)\n",
    "image_tensor.shape"
   ]
  },
  {
   "cell_type": "code",
   "execution_count": 32,
   "metadata": {},
   "outputs": [
    {
     "data": {
      "text/plain": [
       "4"
      ]
     },
     "execution_count": 32,
     "metadata": {},
     "output_type": "execute_result"
    }
   ],
   "source": [
    "tensor_cifar10 = datasets.CIFAR10(data_path, train=True, download=False,\n",
    "                          transform=transforms.ToTensor())\n",
    "tensor_cifar10[10][1]"
   ]
  },
  {
   "cell_type": "code",
   "execution_count": 34,
   "metadata": {},
   "outputs": [
    {
     "data": {
      "text/plain": [
       "torch.Size([3, 32, 32, 50000])"
      ]
     },
     "execution_count": 34,
     "metadata": {},
     "output_type": "execute_result"
    }
   ],
   "source": [
    "# Normalize the means and standard deviations\n",
    "images = torch.stack([image_tensor for image_tensor, _ in tensor_cifar10],dim=3)\n",
    "images.shape"
   ]
  },
  {
   "cell_type": "code",
   "execution_count": 47,
   "metadata": {},
   "outputs": [],
   "source": [
    "# Compute the mean and standard deviation per channel\n",
    "means = images.view(3,-1).mean(dim=1)\n",
    "stds = images.view(3,-1).std(dim=1)\n",
    "\n",
    "# Normalize\n",
    "transforms.Normalize(means,stds)\n",
    "\n",
    "transformed_cifar10 = datasets.CIFAR10(data_path, train=True, download=False,\n",
    "                                      transform=transforms.Compose([transforms.ToTensor(),transforms.Normalize(means,stds)]))\n",
    "\n",
    "transformed_cifar10_val = datasets.CIFAR10(data_path, train=False, download=False,\n",
    "                                      transform=transforms.Compose([transforms.ToTensor(),transforms.Normalize(means,stds)]))"
   ]
  },
  {
   "cell_type": "code",
   "execution_count": 46,
   "metadata": {},
   "outputs": [
    {
     "name": "stderr",
     "output_type": "stream",
     "text": [
      "Clipping input data to the valid range for imshow with RGB data ([0..1] for floats or [0..255] for integers).\n"
     ]
    },
    {
     "data": {
      "image/png": "[encoded data removed]",
      "text/plain": [
       "<Figure size 432x288 with 1 Axes>"
      ]
     },
     "metadata": {
      "needs_background": "light"
     },
     "output_type": "display_data"
    }
   ],
   "source": [
    "img_t, _ = transformed_cifar10[1000]\n",
    "plt.imshow(img_t.permute(1, 2, 0)) # change the order of the axes from to CxHxW HxWxC\n",
    "plt.show()"
   ]
  },
  {
   "cell_type": "code",
   "execution_count": 49,
   "metadata": {},
   "outputs": [],
   "source": [
    "# Distinguish birds from airplanes\n",
    "label_map = {0:0,2:1}  # dict\n",
    "class_names = ['airplane','bird']\n",
    "\n",
    "# extract birds and airplanes from datasets\n",
    "cifar2 = [(img,label_map[label]) for img,label in transformed_cifar10 if label in [0,2]]\n",
    "cifar2_val = [(img,label_map[label]) for img,label in transformed_cifar10_val if label in [0,2]]"
   ]
  },
  {
   "cell_type": "code",
   "execution_count": 72,
   "metadata": {},
   "outputs": [],
   "source": [
    "# The following approach is to treat every input image as a 1D array which has \n",
    "# 3x32x32 = 3072 features"
   ]
  },
  {
   "cell_type": "code",
   "execution_count": 70,
   "metadata": {},
   "outputs": [
    {
     "name": "stdout",
     "output_type": "stream",
     "text": [
      "Epoch: 0, Loss: 0.514506\n",
      "Epoch: 1, Loss: 0.448507\n",
      "Epoch: 2, Loss: 0.536932\n",
      "Epoch: 3, Loss: 0.493312\n",
      "Epoch: 4, Loss: 0.369245\n",
      "Epoch: 5, Loss: 0.443058\n",
      "Epoch: 6, Loss: 0.410149\n",
      "Epoch: 7, Loss: 0.546905\n",
      "Epoch: 8, Loss: 0.295824\n",
      "Epoch: 9, Loss: 0.375231\n",
      "Epoch: 10, Loss: 0.504208\n",
      "Epoch: 11, Loss: 0.566898\n",
      "Epoch: 12, Loss: 0.280595\n",
      "Epoch: 13, Loss: 0.447684\n",
      "Epoch: 14, Loss: 0.296341\n",
      "Epoch: 15, Loss: 0.427864\n",
      "Epoch: 16, Loss: 0.323210\n",
      "Epoch: 17, Loss: 0.183696\n",
      "Epoch: 18, Loss: 0.293747\n",
      "Epoch: 19, Loss: 0.362383\n",
      "Epoch: 20, Loss: 0.440555\n",
      "Epoch: 21, Loss: 0.261526\n",
      "Epoch: 22, Loss: 0.204288\n",
      "Epoch: 23, Loss: 0.273779\n",
      "Epoch: 24, Loss: 0.066540\n",
      "Epoch: 25, Loss: 0.342016\n",
      "Epoch: 26, Loss: 0.258981\n",
      "Epoch: 27, Loss: 0.312982\n",
      "Epoch: 28, Loss: 0.146749\n",
      "Epoch: 29, Loss: 0.178875\n",
      "Epoch: 30, Loss: 0.238655\n",
      "Epoch: 31, Loss: 0.218035\n",
      "Epoch: 32, Loss: 0.542647\n",
      "Epoch: 33, Loss: 0.104610\n",
      "Epoch: 34, Loss: 0.062471\n",
      "Epoch: 35, Loss: 0.086642\n",
      "Epoch: 36, Loss: 0.224507\n",
      "Epoch: 37, Loss: 0.161553\n",
      "Epoch: 38, Loss: 0.037496\n",
      "Epoch: 39, Loss: 0.020016\n",
      "Epoch: 40, Loss: 0.035918\n",
      "Epoch: 41, Loss: 0.052368\n",
      "Epoch: 42, Loss: 0.291500\n",
      "Epoch: 43, Loss: 0.044340\n",
      "Epoch: 44, Loss: 0.024476\n",
      "Epoch: 45, Loss: 0.091786\n",
      "Epoch: 46, Loss: 0.075201\n",
      "Epoch: 47, Loss: 0.044241\n",
      "Epoch: 48, Loss: 0.061142\n",
      "Epoch: 49, Loss: 0.009730\n",
      "Epoch: 50, Loss: 0.265124\n",
      "Epoch: 51, Loss: 0.041700\n",
      "Epoch: 52, Loss: 0.051925\n",
      "Epoch: 53, Loss: 0.390292\n",
      "Epoch: 54, Loss: 0.055696\n",
      "Epoch: 55, Loss: 0.012060\n",
      "Epoch: 56, Loss: 0.008092\n",
      "Epoch: 57, Loss: 0.049404\n",
      "Epoch: 58, Loss: 1.605754\n",
      "Epoch: 59, Loss: 0.106354\n",
      "Epoch: 60, Loss: 0.006571\n",
      "Epoch: 61, Loss: 0.004240\n",
      "Epoch: 62, Loss: 0.003591\n",
      "Epoch: 63, Loss: 0.003649\n",
      "Epoch: 64, Loss: 0.003720\n",
      "Epoch: 65, Loss: 0.022470\n",
      "Epoch: 66, Loss: 0.020807\n",
      "Epoch: 67, Loss: 0.005146\n",
      "Epoch: 68, Loss: 0.004028\n",
      "Epoch: 69, Loss: 0.002419\n",
      "Epoch: 70, Loss: 0.000389\n",
      "Epoch: 71, Loss: 0.001137\n",
      "Epoch: 72, Loss: 0.019331\n",
      "Epoch: 73, Loss: 0.003342\n",
      "Epoch: 74, Loss: 0.009289\n",
      "Epoch: 75, Loss: 0.003626\n",
      "Epoch: 76, Loss: 0.007097\n",
      "Epoch: 77, Loss: 0.006967\n",
      "Epoch: 78, Loss: 0.003049\n",
      "Epoch: 79, Loss: 0.009641\n",
      "Epoch: 80, Loss: 0.001177\n",
      "Epoch: 81, Loss: 0.001580\n",
      "Epoch: 82, Loss: 0.002601\n",
      "Epoch: 83, Loss: 0.010932\n",
      "Epoch: 84, Loss: 0.015623\n",
      "Epoch: 85, Loss: 0.000259\n",
      "Epoch: 86, Loss: 0.002211\n",
      "Epoch: 87, Loss: 0.012295\n",
      "Epoch: 88, Loss: 0.000619\n",
      "Epoch: 89, Loss: 0.002424\n",
      "Epoch: 90, Loss: 0.001193\n",
      "Epoch: 91, Loss: 0.004517\n",
      "Epoch: 92, Loss: 0.001035\n",
      "Epoch: 93, Loss: 0.001223\n",
      "Epoch: 94, Loss: 0.002560\n",
      "Epoch: 95, Loss: 0.001117\n",
      "Epoch: 96, Loss: 0.003800\n",
      "Epoch: 97, Loss: 0.003872\n",
      "Epoch: 98, Loss: 0.001791\n",
      "Epoch: 99, Loss: 0.001447\n"
     ]
    }
   ],
   "source": [
    "# build a neural network\n",
    "import torch.nn as nn\n",
    "import torch.optim as optim\n",
    "from collections import OrderedDict\n",
    "\n",
    "# 2 output labels\n",
    "n_out = 2    \n",
    "\n",
    "# Minibatch and shuffle the data\n",
    "train_loader = torch.utils.data.DataLoader(cifar2, batch_size=64, shuffle=True)\n",
    "\n",
    "\n",
    "# 3x32x32 = 3072 features per sample\n",
    "model = nn.Sequential(OrderedDict([\n",
    "    ('hidden_linear_1', nn.Linear(3072, 1024)),\n",
    "    ('hidden_activation_1', nn.Tanh()),\n",
    "    ('hidden_linear_2', nn.Linear(1024, 512)),\n",
    "    ('hidden_activation_2', nn.Tanh()),\n",
    "    ('hidden_linear_3', nn.Linear(512, 128)),\n",
    "    ('hidden_activation_3', nn.Tanh()),\n",
    "    ('output_linear', nn.Linear(128 , 2))\n",
    "]))\n",
    "\n",
    "\n",
    "\n",
    "# def Softmax(x):\n",
    "#     return torch.exp(x)/torch.exp(x).sum()\n",
    "loss_fn = nn.CrossEntropyLoss()\n",
    "learning_rate = 1e-2\n",
    "optimizer = optim.SGD(model.parameters(), lr=learning_rate)\n",
    "n_epochs = 100\n",
    "\n",
    "for epoch in range(n_epochs):\n",
    "    for images,labels in train_loader:\n",
    "        batch_size = images.shape[0]\n",
    "        outputs = model(images.view(batch_size, -1))\n",
    "        loss = loss_fn(outputs, labels)\n",
    "        \n",
    "        optimizer.zero_grad()\n",
    "        loss.backward()\n",
    "        optimizer.step()\n",
    "        \n",
    "    print(\"Epoch: %d, Loss: %f\" % (epoch, float(loss)))"
   ]
  },
  {
   "cell_type": "code",
   "execution_count": 71,
   "metadata": {},
   "outputs": [
    {
     "name": "stdout",
     "output_type": "stream",
     "text": [
      "Accuracy: 0.809000\n"
     ]
    }
   ],
   "source": [
    "val_loader = torch.utils.data.DataLoader(cifar2_val, batch_size=64, shuffle=False)\n",
    "\n",
    "correct = 0\n",
    "total = 0\n",
    "\n",
    "with torch.no_grad():\n",
    "    for images, labels in val_loader:\n",
    "        outputs = model(images.view(images.shape[0], -1))\n",
    "        _, predicted = torch.max(outputs, dim=1)\n",
    "        total += labels.shape[0]\n",
    "        correct += int((predicted == labels).sum())\n",
    "        \n",
    "print(\"Accuracy: %f\" % (correct / total))"
   ]
  },
  {
   "cell_type": "code",
   "execution_count": null,
   "metadata": {},
   "outputs": [],
   "source": []
  }
 ],
 "metadata": {
  "kernelspec": {
   "display_name": "Python 3",
   "language": "python",
   "name": "python3"
  },
  "language_info": {
   "codemirror_mode": {
    "name": "ipython",
    "version": 3
   },
   "file_extension": ".py",
   "mimetype": "text/x-python",
   "name": "python",
   "nbconvert_exporter": "python",
   "pygments_lexer": "ipython3",
   "version": "3.7.3"
  }
 },
 "nbformat": 4,
 "nbformat_minor": 2
}
